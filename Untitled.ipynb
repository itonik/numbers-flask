{
 "cells": [
  {
   "cell_type": "code",
   "execution_count": 8,
   "metadata": {},
   "outputs": [],
   "source": [
    "import pickle\n",
    "import pandas as pd\n",
    "import numpy as np\n",
    "import cv2\n",
    "from recognition_utils import del_null_cols, del_null_rows, to_mnist\n",
    "\n",
    "from sklearn.decomposition import PCA\n",
    "from sklearn.svm import SVC\n",
    "from sklearn.pipeline import Pipeline # useful to tie the two together\n",
    "\n",
    "train = pd.read_csv('train.csv')\n",
    "target = train['label'].values\n",
    "train.drop('label', axis=1, inplace=True)\n",
    "train = train.values"
   ]
  },
  {
   "cell_type": "code",
   "execution_count": 15,
   "metadata": {},
   "outputs": [],
   "source": [
    "%matplotlib inline\n",
    "import matplotlib\n",
    "import matplotlib.pyplot as plt\n",
    "\n",
    "def viewImage(image):\n",
    "    plt.imshow(image)\n",
    "    plt.axis('off')\n",
    "    plt.show()\n",
    "\n",
    "def reshape_to_fit(image):\n",
    "    f = cv2.findNonZero(image.astype(np.uint8))\n",
    "    x, y, w, h = cv2.boundingRect(f)\n",
    "    image = image[y:y+h, x:x+w]\n",
    "    if w > h:\n",
    "        image = cv2.resize(image, (28, int(28 * image.shape[0]/image.shape[1])))\n",
    "        empty_t = int(np.floor((float(28) - image.shape[0]) / 2))\n",
    "        new_image = np.zeros((28,28), dtype=np.uint8)\n",
    "        for y in range(image.shape[0]):\n",
    "            for x in range(image.shape[1]):\n",
    "                new_image[empty_t+y,x] = image[y,x]\n",
    "    else:\n",
    "        image = cv2.resize(image, (int(28*image.shape[1]/image.shape[0]), 28))\n",
    "        empty_l = int(np.floor((float(28) - image.shape[1]) / 2))\n",
    "        new_image = np.zeros((28,28), dtype=np.uint8)\n",
    "        for y in range(image.shape[0]):\n",
    "            for x in range(image.shape[1]):\n",
    "                new_image[y,empty_l+x] = image[y,x]\n",
    "    return new_image"
   ]
  },
  {
   "cell_type": "markdown",
   "metadata": {},
   "source": []
  },
  {
   "cell_type": "code",
   "execution_count": 19,
   "metadata": {},
   "outputs": [
    {
     "name": "stderr",
     "output_type": "stream",
     "text": [
      "/usr/local/lib/python3.7/site-packages/sklearn/svm/base.py:196: FutureWarning: The default value of gamma will change from 'auto' to 'scale' in version 0.22 to account better for unscaled features. Set gamma explicitly to 'auto' or 'scale' to avoid this warning.\n",
      "  \"avoid this warning.\", FutureWarning)\n"
     ]
    }
   ],
   "source": [
    "for i in range(10000):\n",
    "    a = train[i].reshape(28,28).astype(np.uint8)\n",
    "    a = reshape_to_fit(a)\n",
    "    a = a.reshape(1,28*28)\n",
    "    train[i] = a\n",
    "\n",
    "# setting up the components\n",
    "pca = ('pca', PCA(n_components = 100)) # I did play with the parameter\n",
    "svc = ('svc', SVC(kernel = 'poly'))\n",
    "\n",
    "# gluing into a pipe\n",
    "estimators = [\n",
    "    pca,\n",
    "    svc\n",
    "]\n",
    "clf = Pipeline(estimators)\n",
    "\n",
    "clf.fit(train, target)\n",
    "pickle.dump(clf, open(\"clf.p\", \"wb\"))\n"
   ]
  },
  {
   "cell_type": "code",
   "execution_count": 24,
   "metadata": {},
   "outputs": [
    {
     "data": {
      "image/png": "[encoded data removed]",
      "text/plain": [
       "<Figure size 432x288 with 1 Axes>"
      ]
     },
     "metadata": {
      "needs_background": "light"
     },
     "output_type": "display_data"
    },
    {
     "data": {
      "text/plain": [
       "array([6])"
      ]
     },
     "execution_count": 24,
     "metadata": {},
     "output_type": "execute_result"
    }
   ],
   "source": [
    "a = train[10].reshape(28,28).astype(np.uint8)\n",
    "a = reshape_to_fit(a)\n",
    "a = a.reshape(1,28*28)\n",
    "#print(a)\n",
    "\n",
    "\n",
    "nums28=cv2.imread(\"intermediate/8.png.segment-2.png\")\n",
    "nums28=cv2.cvtColor(nums28, cv2.COLOR_BGR2GRAY)-255\n",
    "nums28=reshape_to_fit(nums28)\n",
    "viewImage(nums28)\n",
    "nums28=nums28.reshape(1,28*28)\n",
    "test = np.zeros(shape=(len(nums28),784))\n",
    "for i,num in enumerate(nums28):\n",
    "    num = np.reshape(num,784)\n",
    "    test[i] = num*255\n",
    "results = clf.predict(test)\n",
    "results"
   ]
  },
  {
   "cell_type": "code",
   "execution_count": null,
   "metadata": {},
   "outputs": [],
   "source": []
  }
 ],
 "metadata": {
  "kernelspec": {
   "display_name": "Python 3",
   "language": "python",
   "name": "python3"
  },
  "language_info": {
   "codemirror_mode": {
    "name": "ipython",
    "version": 3
   },
   "file_extension": ".py",
   "mimetype": "text/x-python",
   "name": "python",
   "nbconvert_exporter": "python",
   "pygments_lexer": "ipython3",
   "version": "3.7.4"
  }
 },
 "nbformat": 4,
 "nbformat_minor": 2
}
